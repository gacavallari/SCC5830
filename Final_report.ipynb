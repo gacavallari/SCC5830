{
 "cells": [
  {
   "cell_type": "markdown",
   "metadata": {},
   "source": [
    "## Detecting fake faces\n",
    "\n",
    "Facial recognition is being used in many systems and applications. In some cases it's important to detect if fake images are being uploaded by the user to the system in a registration process. This project aims to detect \"photoshopped\" frontal face images. The goal of this project is to detect likely regions that have been modified using photo editing tools.\n",
    "\n",
    "*Main objective*:  Given a frontal face image, detect likely regions that have been modified using photo editing tools.\n",
    "\n",
    "*Source of the images*: https://www.kaggle.com/ciplab/real-and-fake-face-detection. Examples of input images:\n",
    "\n",
    "<img src=\"report_imgs/samples.jpg\" width=\"400\" height=\"400\">\n",
    "\n",
    "\n",
    "\n",
    "*Steps and methods used:* \n",
    "\n",
    "1 - Exploring the image color spaces\n",
    "\n",
    "2 - Denoising methods \n",
    "\n",
    "3 - Error Level Analysis \n",
    "\n",
    "4 - Simple filter methods\n",
    "\n",
    "5 - PCA and LBP (failed attempts)\n",
    "\n",
    "6 - More examples"
   ]
  },
  {
   "cell_type": "markdown",
   "metadata": {},
   "source": [
    "## 1 - Exploring the image color spaces\n",
    "\n",
    "To view if some specific channel could help showing the manipulated regions, I explored negative, LAB, YCrCb and HSV color spaces. As we can see, it's not possibly to detect the manipulations just visualizing the channels separately. Image used for this report: easy_25_0110.jpg (manipulated right eye and nose)\n",
    "\n",
    "<img src=\"report_imgs/original_negative.png\" width=\"600\" height=\"600\">\n",
    "<img src=\"report_imgs/bgr.png\" width=\"600\" height=\"600\">\n",
    "<img src=\"report_imgs/neg.png\" width=\"600\" height=\"600\">\n",
    "<img src=\"report_imgs/lab.png\" width=\"600\" height=\"600\">\n",
    "<img src=\"report_imgs/YCrCb.png\" width=\"600\" height=\"600\">\n",
    "<img src=\"report_imgs/HSV.png\" width=\"600\" height=\"600\">"
   ]
  },
  {
   "cell_type": "markdown",
   "metadata": {},
   "source": [
    "## 2 - Denoising methods \n",
    "\n",
    "After some research, I discovered that applying a denoising method and then subtracting the denoised image from the original image, it was possible to see the noise of the manipulated image.\n",
    "\n",
    "<img src=\"report_imgs/denoise.png\" width=\"800\" height=\"800\">\n",
    "\n",
    "Applying a gaussian blur at the median blur image, for example, it's possible to see the manipulated region better. Then, after Otsu's thresholding and an morphological opening, the manipulated regions appear.\n",
    "\n",
    "<img src=\"report_imgs/after_open.png\" width=\"800\" height=\"800\">\n",
    "\n",
    "This methods works for almost all easy and mid cases. For hard cases, other methods have been explored, as stated below."
   ]
  },
  {
   "cell_type": "markdown",
   "metadata": {},
   "source": [
    "## 3 - Error Level Analysis (ELA)\n",
    "\n",
    "This technique works by intentionally resaving the image at a certain quality level, such as 95%, and then computing the difference between the images.\n",
    "\n",
    "<img src=\"report_imgs/ela.png\" width=\"400\" height=\"400\">\n",
    "\n",
    "Then applying the same steps as I did earlier, the manipulated regions appear:\n",
    "\n",
    "<img src=\"report_imgs/ela_after.png\" width=\"800\" height=\"800\">\n",
    "\n",
    "\n",
    "\n",
    "\n",
    "\n"
   ]
  },
  {
   "cell_type": "markdown",
   "metadata": {},
   "source": [
    "## 4 - Simple filter methods"
   ]
  },
  {
   "cell_type": "markdown",
   "metadata": {},
   "source": [
    "Recently, local noise features based methods, like the steganalysis rich model (SRM), have shown promising performance in image forensics tasks. Por example,  <a href=\"https://arxiv.org/pdf/1805.04953v1.pdf\">this paper</a>  uses three SRM filter kernels to extract noise features.\n",
    "\n",
    "<img src=\"report_imgs/after_kernel.png\" width=\"800\" height=\"800\">\n",
    "\n",
    "Then applying the same steps as I did earlier, the manipulated regions appear:\n",
    "\n",
    "<img src=\"report_imgs/kernel_after.png\" width=\"800\" height=\"800\">"
   ]
  },
  {
   "cell_type": "markdown",
   "metadata": {},
   "source": [
    "## 5 - PCA and LBP (failed attempts)\n",
    "\n",
    "The image forensics literature also presents PCA as a method to help visualizing the manipulations. \n",
    "I tried LBP hoping that it could detect the diffence of texture.  Those methods did not work.\n",
    "\n",
    "<img src=\"report_imgs/pca_fail.png\" width=\"800\" height=\"800\">\n",
    "\n",
    "LBP with different parameters:\n",
    "\n",
    "<img src=\"report_imgs/LBP_fail.png\" width=\"800\" height=\"800\">"
   ]
  },
  {
   "cell_type": "markdown",
   "metadata": {},
   "source": [
    "## 6 - More examples"
   ]
  },
  {
   "cell_type": "markdown",
   "metadata": {},
   "source": [
    "Image: mid_113_1100.jpg (both eyes manipulated): Correctly detected by all methods.\n",
    "    \n",
    "<img src=\"report_imgs/more_1_1.png\" width=\"300\" height=\"300\">\n",
    "<img src=\"report_imgs/more_1_2.png\" width=\"800\" height=\"800\">\n",
    "<img src=\"report_imgs/more_1_3.png\" width=\"800\" height=\"800\">\n",
    "<img src=\"report_imgs/more_1_4.png\" width=\"300\" height=\"300\">\n",
    "<img src=\"report_imgs/more_1_5.png\" width=\"800\" height=\"800\">\n",
    "<img src=\"report_imgs/more_1_6.png\" width=\"800\" height=\"800\">\n",
    "<img src=\"report_imgs/more_1_7.png\" width=\"800\" height=\"800\">\n",
    "\n",
    "Image: hard_54_0001.jpg (mouth manipulated).\n",
    "In this case the denoising method did not work. The error level analysis method was able to detect that the mouth was manipulated but also the eyes (wrong). The simple filter method results were almost the same as ELA.\n",
    "\n",
    "<img src=\"report_imgs/more_2_1.png\" width=\"300\" height=\"300\">\n",
    "<img src=\"report_imgs/more_2_2.png\" width=\"800\" height=\"800\">\n",
    "<img src=\"report_imgs/more_2_3.png\" width=\"800\" height=\"800\">\n",
    "<img src=\"report_imgs/more_2_4.png\" width=\"300\" height=\"300\">\n",
    "<img src=\"report_imgs/more_2_5.png\" width=\"800\" height=\"800\">\n",
    "<img src=\"report_imgs/more_2_6.png\" width=\"800\" height=\"800\">\n",
    "<img src=\"report_imgs/more_2_7.png\" width=\"800\" height=\"800\">"
   ]
  }
 ],
 "metadata": {
  "kernelspec": {
   "display_name": "Python 3",
   "language": "python",
   "name": "python3"
  },
  "language_info": {
   "codemirror_mode": {
    "name": "ipython",
    "version": 3
   },
   "file_extension": ".py",
   "mimetype": "text/x-python",
   "name": "python",
   "nbconvert_exporter": "python",
   "pygments_lexer": "ipython3",
   "version": "3.6.7"
  }
 },
 "nbformat": 4,
 "nbformat_minor": 2
}
